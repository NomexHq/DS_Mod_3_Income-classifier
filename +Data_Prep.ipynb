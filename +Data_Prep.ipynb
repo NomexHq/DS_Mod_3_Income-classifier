{
 "cells": [
  {
   "cell_type": "code",
   "execution_count": 1,
   "metadata": {},
   "outputs": [],
   "source": [
    "import numpy as np\n",
    "import pandas as pd\n",
    "import seaborn as sns\n",
    "import matplotlib.pyplot as plt\n",
    "import missingno as msno\n",
    "%matplotlib inline\n",
    "#from sklearn.model_selection import GridSearchCV, RandomizedSearchCV"
   ]
  },
  {
   "cell_type": "code",
   "execution_count": 2,
   "metadata": {},
   "outputs": [
    {
     "data": {
      "text/html": [
       "<div>\n",
       "<style scoped>\n",
       "    .dataframe tbody tr th:only-of-type {\n",
       "        vertical-align: middle;\n",
       "    }\n",
       "\n",
       "    .dataframe tbody tr th {\n",
       "        vertical-align: top;\n",
       "    }\n",
       "\n",
       "    .dataframe thead th {\n",
       "        text-align: right;\n",
       "    }\n",
       "</style>\n",
       "<table border=\"1\" class=\"dataframe\">\n",
       "  <thead>\n",
       "    <tr style=\"text-align: right;\">\n",
       "      <th></th>\n",
       "      <th>age</th>\n",
       "      <th>workclass</th>\n",
       "      <th>fnlwgt</th>\n",
       "      <th>education</th>\n",
       "      <th>education-num</th>\n",
       "      <th>marital-status</th>\n",
       "      <th>occupation</th>\n",
       "      <th>relationship</th>\n",
       "      <th>race</th>\n",
       "      <th>sex</th>\n",
       "      <th>capital-gain</th>\n",
       "      <th>capital-loss</th>\n",
       "      <th>hours-per-week</th>\n",
       "      <th>native-country</th>\n",
       "      <th>income</th>\n",
       "    </tr>\n",
       "  </thead>\n",
       "  <tbody>\n",
       "    <tr>\n",
       "      <th>0</th>\n",
       "      <td>39</td>\n",
       "      <td>State-gov</td>\n",
       "      <td>77516</td>\n",
       "      <td>Bachelors</td>\n",
       "      <td>13</td>\n",
       "      <td>Never-married</td>\n",
       "      <td>Adm-clerical</td>\n",
       "      <td>Not-in-family</td>\n",
       "      <td>White</td>\n",
       "      <td>Male</td>\n",
       "      <td>2174</td>\n",
       "      <td>0</td>\n",
       "      <td>40</td>\n",
       "      <td>United-States</td>\n",
       "      <td>&lt;=50K</td>\n",
       "    </tr>\n",
       "    <tr>\n",
       "      <th>1</th>\n",
       "      <td>50</td>\n",
       "      <td>Self-emp-not-inc</td>\n",
       "      <td>83311</td>\n",
       "      <td>Bachelors</td>\n",
       "      <td>13</td>\n",
       "      <td>Married-civ-spouse</td>\n",
       "      <td>Exec-managerial</td>\n",
       "      <td>Husband</td>\n",
       "      <td>White</td>\n",
       "      <td>Male</td>\n",
       "      <td>0</td>\n",
       "      <td>0</td>\n",
       "      <td>13</td>\n",
       "      <td>United-States</td>\n",
       "      <td>&lt;=50K</td>\n",
       "    </tr>\n",
       "    <tr>\n",
       "      <th>2</th>\n",
       "      <td>38</td>\n",
       "      <td>Private</td>\n",
       "      <td>215646</td>\n",
       "      <td>HS-grad</td>\n",
       "      <td>9</td>\n",
       "      <td>Divorced</td>\n",
       "      <td>Handlers-cleaners</td>\n",
       "      <td>Not-in-family</td>\n",
       "      <td>White</td>\n",
       "      <td>Male</td>\n",
       "      <td>0</td>\n",
       "      <td>0</td>\n",
       "      <td>40</td>\n",
       "      <td>United-States</td>\n",
       "      <td>&lt;=50K</td>\n",
       "    </tr>\n",
       "    <tr>\n",
       "      <th>3</th>\n",
       "      <td>53</td>\n",
       "      <td>Private</td>\n",
       "      <td>234721</td>\n",
       "      <td>11th</td>\n",
       "      <td>7</td>\n",
       "      <td>Married-civ-spouse</td>\n",
       "      <td>Handlers-cleaners</td>\n",
       "      <td>Husband</td>\n",
       "      <td>Black</td>\n",
       "      <td>Male</td>\n",
       "      <td>0</td>\n",
       "      <td>0</td>\n",
       "      <td>40</td>\n",
       "      <td>United-States</td>\n",
       "      <td>&lt;=50K</td>\n",
       "    </tr>\n",
       "    <tr>\n",
       "      <th>4</th>\n",
       "      <td>28</td>\n",
       "      <td>Private</td>\n",
       "      <td>338409</td>\n",
       "      <td>Bachelors</td>\n",
       "      <td>13</td>\n",
       "      <td>Married-civ-spouse</td>\n",
       "      <td>Prof-specialty</td>\n",
       "      <td>Wife</td>\n",
       "      <td>Black</td>\n",
       "      <td>Female</td>\n",
       "      <td>0</td>\n",
       "      <td>0</td>\n",
       "      <td>40</td>\n",
       "      <td>Cuba</td>\n",
       "      <td>&lt;=50K</td>\n",
       "    </tr>\n",
       "  </tbody>\n",
       "</table>\n",
       "</div>"
      ],
      "text/plain": [
       "   age          workclass   fnlwgt   education   education-num  \\\n",
       "0   39          State-gov    77516   Bachelors              13   \n",
       "1   50   Self-emp-not-inc    83311   Bachelors              13   \n",
       "2   38            Private   215646     HS-grad               9   \n",
       "3   53            Private   234721        11th               7   \n",
       "4   28            Private   338409   Bachelors              13   \n",
       "\n",
       "        marital-status          occupation    relationship    race      sex  \\\n",
       "0        Never-married        Adm-clerical   Not-in-family   White     Male   \n",
       "1   Married-civ-spouse     Exec-managerial         Husband   White     Male   \n",
       "2             Divorced   Handlers-cleaners   Not-in-family   White     Male   \n",
       "3   Married-civ-spouse   Handlers-cleaners         Husband   Black     Male   \n",
       "4   Married-civ-spouse      Prof-specialty            Wife   Black   Female   \n",
       "\n",
       "    capital-gain   capital-loss   hours-per-week  native-country  income  \n",
       "0           2174              0               40   United-States   <=50K  \n",
       "1              0              0               13   United-States   <=50K  \n",
       "2              0              0               40   United-States   <=50K  \n",
       "3              0              0               40   United-States   <=50K  \n",
       "4              0              0               40            Cuba   <=50K  "
      ]
     },
     "execution_count": 2,
     "metadata": {},
     "output_type": "execute_result"
    }
   ],
   "source": [
    "# loading the file into a dataframe\n",
    "df = pd.read_csv('income_evaluation.csv', header=0)\n",
    "df.head()"
   ]
  },
  {
   "cell_type": "code",
   "execution_count": 4,
   "metadata": {},
   "outputs": [
    {
     "data": {
      "text/plain": [
       "(32561, 15)"
      ]
     },
     "execution_count": 4,
     "metadata": {},
     "output_type": "execute_result"
    }
   ],
   "source": [
    "df.shape"
   ]
  },
  {
   "cell_type": "code",
   "execution_count": null,
   "metadata": {},
   "outputs": [],
   "source": [
    "# stripping spaces from the column names\n",
    "df.columns = df.columns.str.replace(' ', '')"
   ]
  },
  {
   "cell_type": "code",
   "execution_count": null,
   "metadata": {},
   "outputs": [],
   "source": [
    "# droppig unwanted columns\n",
    "df.drop(columns=['fnlwgt', 'capital-gain', 'capital-loss', 'relationship'], inplace=True)\n",
    "df.head()"
   ]
  },
  {
   "cell_type": "code",
   "execution_count": null,
   "metadata": {
    "scrolled": false
   },
   "outputs": [],
   "source": [
    "# renaming columns\n",
    "df = df.rename(columns={'education-num': 'edu_years',\n",
    "                        'marital-status': 'marital_status',\n",
    "                        'hours-per-week': 'hours_per_week',\n",
    "                        'native-country': 'native_country'})\n",
    "df.head()"
   ]
  },
  {
   "cell_type": "code",
   "execution_count": null,
   "metadata": {},
   "outputs": [],
   "source": [
    "# looking at valibles' dt\n",
    "df.info()"
   ]
  },
  {
   "cell_type": "code",
   "execution_count": null,
   "metadata": {},
   "outputs": [],
   "source": [
    "# # stripping whitespaces\n",
    "df = df.apply(lambda x: x.str.strip() if x.dtype == \"object\" else x)"
   ]
  },
  {
   "cell_type": "code",
   "execution_count": null,
   "metadata": {},
   "outputs": [],
   "source": [
    "# checking dataframe's shape\n",
    "df.shape"
   ]
  },
  {
   "cell_type": "code",
   "execution_count": null,
   "metadata": {},
   "outputs": [],
   "source": [
    "# looking at missing data\n",
    "msno.matrix(df);"
   ]
  },
  {
   "cell_type": "code",
   "execution_count": null,
   "metadata": {},
   "outputs": [],
   "source": [
    "# checking value one\n",
    "ones = df.hours_per_week.value_counts()\n",
    "ones.loc[ones.index == 1]\n",
    "# looks fine"
   ]
  },
  {
   "cell_type": "code",
   "execution_count": null,
   "metadata": {
    "scrolled": false
   },
   "outputs": [],
   "source": [
    "# transforming the target variable into 1 and 0\n",
    "df['income_code'] = 0\n",
    "df.loc[(df.income == '<=50K') , 'income_code'] = 0 \n",
    "df.loc[(df.income == '>50K') , 'income_code'] = 1 \n",
    "df.head(10)"
   ]
  },
  {
   "cell_type": "code",
   "execution_count": null,
   "metadata": {
    "scrolled": true
   },
   "outputs": [],
   "source": [
    "# transforming the sex variable into 1 and 0\n",
    "df['sex_code'] = 0\n",
    "df.loc[(df.sex == 'Male') , 'sex_code'] = 0 \n",
    "df.loc[(df.sex == 'Female') , 'sex_code'] = 1 \n",
    "df.head(10)"
   ]
  },
  {
   "cell_type": "code",
   "execution_count": null,
   "metadata": {},
   "outputs": [],
   "source": [
    "# dropping not coded sex and income \n",
    "df.drop(columns=['sex', 'income'], inplace=True)\n",
    "df.head()"
   ]
  },
  {
   "cell_type": "markdown",
   "metadata": {},
   "source": [
    "# First baseline LogReg"
   ]
  },
  {
   "cell_type": "code",
   "execution_count": null,
   "metadata": {},
   "outputs": [],
   "source": [
    "#split dataset in features and target variable\n",
    "#feature_cols = ['age', 'workclass', 'education', 'edu_years','marital_status','occupation','race', 'sex', 'hours_per_week','native_country']\n",
    "feature_cols = ['age', 'edu_years','hours_per_week', 'sex_code']\n",
    "\n",
    "X = df[feature_cols] # Features\n",
    "y = df.income_code # Target variable"
   ]
  },
  {
   "cell_type": "code",
   "execution_count": null,
   "metadata": {},
   "outputs": [],
   "source": [
    "# split X and y into training and testing sets\n",
    "from sklearn.model_selection import train_test_split\n",
    "X_train,X_test,y_train,y_test=train_test_split(X,y,test_size=0.2,random_state=0)"
   ]
  },
  {
   "cell_type": "code",
   "execution_count": null,
   "metadata": {},
   "outputs": [],
   "source": [
    "# import the class\n",
    "from sklearn.linear_model import LogisticRegression\n",
    "\n",
    "# instantiate the model (using the default parameters)\n",
    "logreg = LogisticRegression()\n",
    "\n",
    "# fit the model with data\n",
    "logreg.fit(X_train,y_train)\n",
    "\n",
    "#\n",
    "y_pred=logreg.predict(X_test)"
   ]
  },
  {
   "cell_type": "code",
   "execution_count": null,
   "metadata": {},
   "outputs": [],
   "source": [
    "# import the metrics class\n",
    "from sklearn import metrics\n",
    "cnf_matrix = metrics.confusion_matrix(y_test, y_pred)\n",
    "cnf_matrix"
   ]
  },
  {
   "cell_type": "code",
   "execution_count": null,
   "metadata": {},
   "outputs": [],
   "source": [
    "class_names=[0,1] # name  of classes\n",
    "fig, ax = plt.subplots()\n",
    "tick_marks = np.arange(len(class_names))\n",
    "plt.xticks(tick_marks, class_names)\n",
    "plt.yticks(tick_marks, class_names)\n",
    "# create heatmap\n",
    "sns.heatmap(pd.DataFrame(cnf_matrix), annot=True, cmap=\"YlGnBu\" ,fmt='g')\n",
    "ax.xaxis.set_label_position(\"top\")\n",
    "plt.tight_layout()\n",
    "plt.title('Confusion matrix', y=1.1)\n",
    "plt.ylabel('Actual label')\n",
    "plt.xlabel('Predicted label')"
   ]
  },
  {
   "cell_type": "code",
   "execution_count": null,
   "metadata": {},
   "outputs": [],
   "source": [
    "print(\"Accuracy:\",metrics.accuracy_score(y_test, y_pred))\n",
    "print(\"Precision:\",metrics.precision_score(y_test, y_pred))\n",
    "print(\"Recall:\",metrics.recall_score(y_test, y_pred))"
   ]
  },
  {
   "cell_type": "code",
   "execution_count": null,
   "metadata": {
    "scrolled": true
   },
   "outputs": [],
   "source": [
    "y_pred_proba = logreg.predict_proba(X_test)[::,1]\n",
    "fpr, tpr, _ = metrics.roc_curve(y_test,  y_pred_proba)\n",
    "auc = metrics.roc_auc_score(y_test, y_pred_proba)\n",
    "plt.plot(fpr,tpr,label=\"data 1, auc=\"+str(auc))\n",
    "plt.legend(loc=4)\n",
    "plt.show()"
   ]
  },
  {
   "cell_type": "markdown",
   "metadata": {},
   "source": [
    "# First baseline DT"
   ]
  },
  {
   "cell_type": "code",
   "execution_count": null,
   "metadata": {},
   "outputs": [],
   "source": [
    "# Load libraries\n",
    "import pandas as pd\n",
    "from sklearn.tree import DecisionTreeClassifier # Import Decision Tree Classifier"
   ]
  },
  {
   "cell_type": "code",
   "execution_count": null,
   "metadata": {},
   "outputs": [],
   "source": [
    "#split dataset in features and target variable\n",
    "#feature_cols = ['age', 'workclass', 'education', 'edu_years','marital_status','occupation','race', 'sex', 'hours_per_week','native_country']\n",
    "feature_cols = ['age', 'edu_years','hours_per_week', 'sex_code']\n",
    "X = df[feature_cols] # Features\n",
    "y = df.income_code # Target variable"
   ]
  },
  {
   "cell_type": "code",
   "execution_count": null,
   "metadata": {},
   "outputs": [],
   "source": [
    "# Split dataset into training set and test set\n",
    "X_train, X_test, y_train, y_test = train_test_split(X, y, test_size=0.2, random_state=1)"
   ]
  },
  {
   "cell_type": "code",
   "execution_count": null,
   "metadata": {},
   "outputs": [],
   "source": [
    "# Create Decision Tree classifer object\n",
    "clf = DecisionTreeClassifier()\n",
    "\n",
    "# Train Decision Tree Classifer\n",
    "clf = clf.fit(X_train,y_train)\n",
    "\n",
    "#Predict the response for test dataset\n",
    "y_pred = clf.predict(X_test)"
   ]
  },
  {
   "cell_type": "code",
   "execution_count": null,
   "metadata": {},
   "outputs": [],
   "source": [
    "print(\"Accuracy:\",metrics.accuracy_score(y_test, y_pred))"
   ]
  },
  {
   "cell_type": "code",
   "execution_count": null,
   "metadata": {},
   "outputs": [],
   "source": [
    "# Create Decision Tree classifer object\n",
    "clf = DecisionTreeClassifier(criterion=\"entropy\", max_depth=5)\n",
    "\n",
    "# Train Decision Tree Classifer\n",
    "clf = clf.fit(X_train,y_train)\n",
    "\n",
    "#Predict the response for test dataset\n",
    "y_pred = clf.predict(X_test)\n",
    "\n",
    "# Model Accuracy, how often is the classifier correct?\n",
    "print(\"Accuracy:\",metrics.accuracy_score(y_test, y_pred))"
   ]
  },
  {
   "cell_type": "code",
   "execution_count": null,
   "metadata": {},
   "outputs": [],
   "source": [
    "from sklearn.tree import export_graphviz\n",
    "from sklearn.externals.six import StringIO  \n",
    "from IPython.display import Image  \n",
    "import pydotplus\n",
    "\n",
    "dot_data = StringIO()\n",
    "export_graphviz(clf, out_file=dot_data,  \n",
    "                filled=True, rounded=True,\n",
    "                special_characters=True,feature_names = feature_cols,class_names=['0','1'])\n",
    "graph = pydotplus.graph_from_dot_data(dot_data.getvalue())  \n",
    "graph.write_png('income.png')\n",
    "Image(graph.create_png())"
   ]
  },
  {
   "cell_type": "markdown",
   "metadata": {},
   "source": [
    "# Fixing botched values"
   ]
  },
  {
   "cell_type": "markdown",
   "metadata": {},
   "source": [
    "## Exploring 'workclass'"
   ]
  },
  {
   "cell_type": "code",
   "execution_count": null,
   "metadata": {
    "scrolled": true
   },
   "outputs": [],
   "source": [
    "print(df.workclass.value_counts())\n",
    "sns.countplot(y=df['workclass'], data=df, orient=\"h\");\n",
    "# need to deal with ? values"
   ]
  },
  {
   "cell_type": "code",
   "execution_count": null,
   "metadata": {},
   "outputs": [],
   "source": [
    "df.shape"
   ]
  },
  {
   "cell_type": "code",
   "execution_count": null,
   "metadata": {},
   "outputs": [],
   "source": [
    "# Drop useless values\n",
    "df.drop(df.loc[df['workclass']==' Without-pay'].index, inplace=True)\n",
    "df.shape"
   ]
  },
  {
   "cell_type": "code",
   "execution_count": null,
   "metadata": {},
   "outputs": [],
   "source": [
    "# Drop useless values\n",
    "df.drop(df.loc[df['workclass']==' Never-worked'].index, inplace=True)\n",
    "df.shape"
   ]
  },
  {
   "cell_type": "code",
   "execution_count": null,
   "metadata": {
    "scrolled": true
   },
   "outputs": [],
   "source": [
    "print(df.workclass.value_counts())\n",
    "sns.countplot(y=df['workclass'], data=df, orient=\"h\");"
   ]
  },
  {
   "cell_type": "code",
   "execution_count": null,
   "metadata": {},
   "outputs": [],
   "source": [
    "df.drop(df.loc[df['workclass']=='Without-pay'].index, inplace=True)"
   ]
  },
  {
   "cell_type": "markdown",
   "metadata": {},
   "source": [
    "## Exploring 'education'"
   ]
  },
  {
   "cell_type": "code",
   "execution_count": null,
   "metadata": {
    "scrolled": true
   },
   "outputs": [],
   "source": [
    "print(df.education.value_counts())\n",
    "sns.countplot(y=df['education'], data=df, orient=\"h\");\n"
   ]
  },
  {
   "cell_type": "code",
   "execution_count": null,
   "metadata": {},
   "outputs": [],
   "source": [
    "# remove preschool values\n",
    "df.drop(df.loc[df['education']=='Preschool'].index, inplace=True)\n",
    "df.shape"
   ]
  },
  {
   "cell_type": "code",
   "execution_count": null,
   "metadata": {},
   "outputs": [],
   "source": [
    "print(df.education.value_counts())\n",
    "sns.countplot(y=df['education'], data=df, orient=\"h\");"
   ]
  },
  {
   "cell_type": "markdown",
   "metadata": {},
   "source": [
    "## Exploring 'marital_status'"
   ]
  },
  {
   "cell_type": "code",
   "execution_count": null,
   "metadata": {
    "scrolled": true
   },
   "outputs": [],
   "source": [
    "print(df.marital_status.value_counts())\n",
    "sns.countplot(y=df['marital_status'], data=df, orient=\"h\");\n",
    "# combine divorced and seaprated\n",
    "# combine widowed and married spouse absent"
   ]
  },
  {
   "cell_type": "code",
   "execution_count": null,
   "metadata": {},
   "outputs": [],
   "source": [
    "# remove married-af-spouse\n",
    "df.drop(df.loc[df['marital_status']=='Married-AF-spouse'].index, inplace=True)\n",
    "df.shape"
   ]
  },
  {
   "cell_type": "code",
   "execution_count": null,
   "metadata": {},
   "outputs": [],
   "source": [
    "print(df.marital_status.value_counts())\n",
    "sns.countplot(y=df['marital_status'], data=df, orient=\"h\");"
   ]
  },
  {
   "cell_type": "markdown",
   "metadata": {},
   "source": [
    "## Exploring 'occupation'"
   ]
  },
  {
   "cell_type": "code",
   "execution_count": null,
   "metadata": {
    "scrolled": true
   },
   "outputs": [],
   "source": [
    "print(df.occupation.value_counts())\n",
    "sns.countplot(y=df['occupation'], data=df, orient=\"h\");\n",
    "# need to deal with ? values\n",
    "# combine Priv-house-serv and Handlers-cleaners\n",
    "# combine Other-service, Protective-serv "
   ]
  },
  {
   "cell_type": "code",
   "execution_count": null,
   "metadata": {},
   "outputs": [],
   "source": [
    "# remove armed forces\n",
    "df.drop(df.loc[df['occupation']=='Armed-Forces'].index, inplace=True)\n",
    "df.shape"
   ]
  },
  {
   "cell_type": "code",
   "execution_count": null,
   "metadata": {},
   "outputs": [],
   "source": [
    "print(df.occupation.value_counts())\n",
    "sns.countplot(y=df['occupation'], data=df, orient=\"h\");"
   ]
  },
  {
   "cell_type": "markdown",
   "metadata": {},
   "source": [
    "## Exploring 'race'"
   ]
  },
  {
   "cell_type": "code",
   "execution_count": null,
   "metadata": {
    "scrolled": false
   },
   "outputs": [],
   "source": [
    "print(df.race.value_counts())\n",
    "sns.countplot(y=df['race'], data=df);\n",
    "# very imbalanced\n",
    "# combine Other and Asian-Pac-Islander, Amer-Indian-Eskimo? or reduce white ???"
   ]
  },
  {
   "cell_type": "markdown",
   "metadata": {},
   "source": [
    "## Exploring 'native_country'"
   ]
  },
  {
   "cell_type": "code",
   "execution_count": null,
   "metadata": {
    "scrolled": true
   },
   "outputs": [],
   "source": [
    "df.native_country.value_counts()\n",
    "#sns.countplot(y=df['native_country'], data=df)\n",
    "# might need to create a different category (regions)"
   ]
  },
  {
   "cell_type": "markdown",
   "metadata": {},
   "source": [
    "## Exploring 'income'"
   ]
  },
  {
   "cell_type": "code",
   "execution_count": null,
   "metadata": {},
   "outputs": [],
   "source": [
    "print(df.income_code.value_counts())\n",
    "sns.countplot(y=df['income_code'], data=df);\n",
    "# inbalanced"
   ]
  },
  {
   "cell_type": "code",
   "execution_count": null,
   "metadata": {},
   "outputs": [],
   "source": [
    "print(df.sex_code.value_counts())\n",
    "sns.countplot(y=df['sex_code'], data=df);"
   ]
  },
  {
   "cell_type": "code",
   "execution_count": null,
   "metadata": {
    "scrolled": true
   },
   "outputs": [],
   "source": [
    "questions_and = df.loc[(df['workclass']=='?')\n",
    "                       #&(df['education']=='?')\n",
    "                       #&(df['edu_years']=='?')\n",
    "                       #&(df['marital_status']=='?')\n",
    "                       &(df['occupation']=='?')\n",
    "                       #&(df['race']=='?')\n",
    "                       #&(df['sex']=='?')\n",
    "                       #&(df['hours_per_week']=='?')\n",
    "                       &(df['native_country']=='?')]\n",
    "                       #&(df['income']=='?')]\n",
    "questions_and.shape\n",
    "# remove these 27 values"
   ]
  },
  {
   "cell_type": "code",
   "execution_count": null,
   "metadata": {},
   "outputs": [],
   "source": [
    "df.shape"
   ]
  },
  {
   "cell_type": "code",
   "execution_count": null,
   "metadata": {},
   "outputs": [],
   "source": [
    "# Drop useless values\n",
    "df.drop(df.loc[(df['workclass']=='?')&(df['occupation']=='?')&(df['native_country']=='?')].index, inplace=True)\n",
    "df.shape"
   ]
  },
  {
   "cell_type": "code",
   "execution_count": null,
   "metadata": {},
   "outputs": [],
   "source": [
    "questions_and = df.loc[(df['workclass']=='?')\n",
    "                       #&(df['education']==' ?')\n",
    "                       #&(df['edu_years']==' ?')\n",
    "                       #&(df['marital_status']==' ?')\n",
    "                       &(df['occupation']=='?')]\n",
    "                       #&(df['race']==' ?')\n",
    "                       #&(df['sex']==' ?')\n",
    "                       #&(df['hours_per_week']==' ?')\n",
    "                       #&(df['native_country']==' ?')]\n",
    "                       #&(df['income']==' ?')]\n",
    "questions_and.shape\n",
    "# nohting to remove here"
   ]
  },
  {
   "cell_type": "code",
   "execution_count": null,
   "metadata": {},
   "outputs": [],
   "source": [
    "questions_or = df.loc[(df['workclass']=='?')\n",
    "                       |(df['education']=='?')\n",
    "                       #&(df['edu_years']=='?')\n",
    "                       |(df['marital_status']=='?')\n",
    "                       |(df['occupation']=='?')\n",
    "                       |(df['race']=='?')\n",
    "                       #|(df['sex_code']=='?')\n",
    "                       #&(df['hours_per_week']=='?')\n",
    "                       |(df['native_country']=='?')]\n",
    "                       #|(df['income_code']=='?')]\n",
    "questions_or.shape"
   ]
  },
  {
   "cell_type": "code",
   "execution_count": null,
   "metadata": {},
   "outputs": [],
   "source": [
    "questions_class_job = df.loc[#(df['age']==' ?')\n",
    "                       (df['workclass']=='?')\n",
    "                       #&(df['education']==' ?')\n",
    "                       #&(df['edu_years']==' ?')\n",
    "                       #&(df['marital_status']==' ?')\n",
    "                       | (df['occupation']=='?')]\n",
    "                       #&(df['race']==' ?')\n",
    "                       #&(df['sex']==' ?')\n",
    "                       #&(df['hours_per_week']==' ?')\n",
    "                       #|(df['native_country']==' ?')]\n",
    "                       #&(df['income']==' ?')]\n",
    "questions_class_job.shape\n",
    "# try and fill in the missing values ?"
   ]
  },
  {
   "cell_type": "code",
   "execution_count": null,
   "metadata": {},
   "outputs": [],
   "source": [
    "questions_country = df.loc[(df['native_country']=='?')]\n",
    "questions_country.shape\n",
    "# remove if country is missing"
   ]
  },
  {
   "cell_type": "code",
   "execution_count": null,
   "metadata": {},
   "outputs": [],
   "source": [
    "# Drop no country values\n",
    "df.drop(df.loc[df['native_country']=='?'].index, inplace=True)\n",
    "df.shape"
   ]
  },
  {
   "cell_type": "code",
   "execution_count": null,
   "metadata": {},
   "outputs": [],
   "source": [
    "# Drop useless values from both workclass and occupation columns\n",
    "df.drop(df.loc[(df['workclass']=='?')&(df['occupation']=='?')].index, inplace=True)\n",
    "df.shape"
   ]
  },
  {
   "cell_type": "code",
   "execution_count": null,
   "metadata": {
    "scrolled": false
   },
   "outputs": [],
   "source": [
    "print(df.shape)\n",
    "print(df.income_code.value_counts())\n",
    "sns.countplot(y=df['income_code'], data=df);\n",
    "\n",
    "# done with ? signs"
   ]
  },
  {
   "cell_type": "code",
   "execution_count": null,
   "metadata": {},
   "outputs": [],
   "source": [
    "df.drop(df.loc[(df['workclass']=='?')\n",
    "                       |(df['education']=='?')\n",
    "                       #&(df['edu_years']=='?')\n",
    "                       |(df['marital_status']=='?')\n",
    "                       |(df['occupation']=='?')\n",
    "                       |(df['race']=='?')\n",
    "                       #|(df['sex_code']=='?')\n",
    "                       #&(df['hours_per_week']=='?')\n",
    "                       |(df['native_country']=='?')].index, inplace=True)\n",
    "                       #|(df['income_code']=='?')]\n",
    "df.shape"
   ]
  },
  {
   "cell_type": "markdown",
   "metadata": {},
   "source": [
    "## Dealing with strange values"
   ]
  },
  {
   "cell_type": "code",
   "execution_count": null,
   "metadata": {},
   "outputs": [],
   "source": [
    "# reforming native country values into US vs regions\n",
    "df.native_country.value_counts()"
   ]
  },
  {
   "cell_type": "code",
   "execution_count": null,
   "metadata": {},
   "outputs": [],
   "source": [
    "# Grouping the country variable\n",
    "df.loc[(df.native_country == 'United-States') \n",
    "       | (df.native_country == 'Puerto-Rico')\n",
    "       | (df.native_country == 'Outlying-US(Guam-USVI-etc)'),\n",
    "       'native_country'] = 'US'\n",
    "df.loc[(df.native_country == \"Germany\")\n",
    "       | (df.native_country == \"England\")\n",
    "       | (df.native_country == \"Italy\")\n",
    "       | (df.native_country == \"Poland\")\n",
    "       | (df.native_country == \"Portugal\")\n",
    "       | (df.native_country == \"France\")\n",
    "       | (df.native_country == \"Greece\")\n",
    "       | (df.native_country == \"Ireland\")\n",
    "       | (df.native_country == \"Yugoslavia\")\n",
    "       | (df.native_country == \"Hungary\")\n",
    "       | (df.native_country == \"Scotland\")\n",
    "       | (df.native_country == \"Holand-Netherlands\"), 'native_country'] = 'Europe'\n",
    "df.loc[(df.native_country == 'Canada') \n",
    "       | (df.native_country == 'Mexico')\n",
    "       | (df.native_country == 'El-Salvador')\n",
    "       | (df.native_country == 'Nicaragua')\n",
    "       | (df.native_country == 'Dominican-Republic')\n",
    "       | (df.native_country == 'Dominican-Republic'), 'native_country'] = 'North_AM'\n",
    "df.loc[(df.native_country == 'Mexico')\n",
    "       | (df.native_country == 'El-Salvador')\n",
    "       | (df.native_country == 'Nicaragua')\n",
    "       | (df.native_country == 'Dominican-Republic')\n",
    "       | (df.native_country == 'Dominican-Republic')\n",
    "       | (df.native_country == 'Cuba')\n",
    "       | (df.native_country == 'Jamaica')\n",
    "       | (df.native_country == 'Guatemala')\n",
    "       | (df.native_country == 'Haiti')\n",
    "       | (df.native_country == 'Honduras'), 'native_country'] = 'Central_AM'\n",
    "df.loc[(df.native_country == 'Columbia') \n",
    "       | (df.native_country == 'Peru')\n",
    "       | (df.native_country == 'Ecuador')\n",
    "       | (df.native_country == 'Trinadad&Tobago')\n",
    "       | (df.native_country == 'Cambodia'), 'native_country'] = 'South_AM'\n",
    "df.loc[(df.native_country == 'China')\n",
    "       | (df.native_country == 'Japan')\n",
    "       | (df.native_country == 'Taiwan')\n",
    "       | (df.native_country == 'Hong')\n",
    "       | (df.native_country == 'India'), 'native_country'] = 'Asia'\n",
    "df.loc[(df.native_country == 'Philippines')\n",
    "       | (df.native_country == 'Vietnam')\n",
    "       | (df.native_country == 'Laos')\n",
    "       | (df.native_country == 'Thailand'), 'native_country'] = 'SEA'\n",
    "df.loc[df.native_country == 'Iran', 'native_country'] = 'Middle_East'"
   ]
  },
  {
   "cell_type": "code",
   "execution_count": null,
   "metadata": {},
   "outputs": [],
   "source": [
    "# dropping useless values\n",
    "df.drop(df.loc[df['native_country']=='South'].index, inplace=True)\n",
    "df.drop(df.loc[df['native_country']=='?'].index, inplace=True)"
   ]
  },
  {
   "cell_type": "code",
   "execution_count": null,
   "metadata": {},
   "outputs": [],
   "source": [
    "print(df.native_country.value_counts())\n",
    "sns.countplot(y=df['native_country'], data=df);"
   ]
  },
  {
   "cell_type": "code",
   "execution_count": null,
   "metadata": {},
   "outputs": [],
   "source": [
    "# reforming race values into white, black vs other\n",
    "df.loc[(df.race == 'Asian-Pac-Islander') \n",
    "       | (df.race == 'Amer-Indian-Eskimo'), 'race'] = 'Other'"
   ]
  },
  {
   "cell_type": "code",
   "execution_count": null,
   "metadata": {},
   "outputs": [],
   "source": [
    "print(df.race.value_counts())\n",
    "sns.countplot(y=df['race'], data=df);"
   ]
  },
  {
   "cell_type": "code",
   "execution_count": null,
   "metadata": {},
   "outputs": [],
   "source": [
    "# reforming marital status values\n",
    "df.loc[(df.marital_status == 'Separated') , 'marital_status'] = 'Divorced'\n",
    "df.loc[(df.marital_status == 'Married-spouse-absent') , 'marital_status'] = 'Widowed'"
   ]
  },
  {
   "cell_type": "code",
   "execution_count": null,
   "metadata": {},
   "outputs": [],
   "source": [
    "df.marital_status.value_counts()"
   ]
  },
  {
   "cell_type": "code",
   "execution_count": null,
   "metadata": {},
   "outputs": [],
   "source": [
    "print(df.marital_status.value_counts())\n",
    "sns.countplot(y=df['marital_status'], data=df, orient=\"h\");"
   ]
  },
  {
   "cell_type": "code",
   "execution_count": null,
   "metadata": {},
   "outputs": [],
   "source": [
    "# reforming occupation values ( combine Other-service, Protective-serv)\n",
    "df.loc[(df.occupation == 'Priv-house-serv') , 'occupation'] = 'Handlers-cleaners'\n",
    "df.loc[(df.occupation == 'Protective-serv') , 'occupation'] = 'Other-service'"
   ]
  },
  {
   "cell_type": "code",
   "execution_count": null,
   "metadata": {},
   "outputs": [],
   "source": [
    "df.occupation.value_counts()"
   ]
  },
  {
   "cell_type": "code",
   "execution_count": null,
   "metadata": {},
   "outputs": [],
   "source": [
    "print(df.occupation.value_counts())\n",
    "sns.countplot(y=df['occupation'], data=df, orient=\"h\");"
   ]
  },
  {
   "cell_type": "markdown",
   "metadata": {},
   "source": [
    "# Final variable visualisations"
   ]
  },
  {
   "cell_type": "code",
   "execution_count": null,
   "metadata": {},
   "outputs": [],
   "source": [
    "print(df.workclass.value_counts())\n",
    "sns.countplot(y=df['workclass'], data=df, orient=\"h\");"
   ]
  },
  {
   "cell_type": "code",
   "execution_count": null,
   "metadata": {},
   "outputs": [],
   "source": [
    "df.loc[(df.education == '12th') , 'education'] = 'HS-grad'\n",
    "df.loc[(df.education == '9th')|(df.education == '10th')|(df.education == '11th') , 'education'] = '9th-11th'\n",
    "print(df.education.value_counts())\n",
    "sns.countplot(y=df['education'], data=df, orient=\"h\");"
   ]
  },
  {
   "cell_type": "code",
   "execution_count": null,
   "metadata": {},
   "outputs": [],
   "source": [
    "df.loc[(df.marital_status == 'Divorced')|(df.marital_status == 'Widowed') , 'marital_status'] = 'Divorced/Widowed'\n",
    "print(df.marital_status.value_counts())\n",
    "sns.countplot(y=df['marital_status'], data=df, orient=\"h\");"
   ]
  },
  {
   "cell_type": "code",
   "execution_count": null,
   "metadata": {},
   "outputs": [],
   "source": [
    "print(df.occupation.value_counts())\n",
    "sns.countplot(y=df['occupation'], data=df, orient=\"h\");"
   ]
  },
  {
   "cell_type": "code",
   "execution_count": null,
   "metadata": {},
   "outputs": [],
   "source": [
    "print(df.race.value_counts())\n",
    "sns.countplot(y=df['race'], data=df);"
   ]
  },
  {
   "cell_type": "code",
   "execution_count": null,
   "metadata": {},
   "outputs": [],
   "source": [
    "print(df.native_country.value_counts())\n",
    "sns.countplot(y=df['native_country'], data=df);"
   ]
  },
  {
   "cell_type": "code",
   "execution_count": null,
   "metadata": {},
   "outputs": [],
   "source": [
    "print(df.sex_code.value_counts())\n",
    "sns.countplot(y=df['sex_code'], data=df);"
   ]
  },
  {
   "cell_type": "code",
   "execution_count": null,
   "metadata": {},
   "outputs": [],
   "source": [
    "print(df.shape)\n",
    "print(df.income_code.value_counts())\n",
    "sns.countplot(y=df['income_code'], data=df);"
   ]
  },
  {
   "cell_type": "code",
   "execution_count": null,
   "metadata": {},
   "outputs": [],
   "source": [
    "df.to_csv('data_cleaned.csv')"
   ]
  },
  {
   "cell_type": "markdown",
   "metadata": {},
   "source": [
    "# Outlier detection"
   ]
  },
  {
   "cell_type": "code",
   "execution_count": null,
   "metadata": {},
   "outputs": [],
   "source": [
    "from sklearn.ensemble import IsolationForest\n",
    "from sklearn.covariance import EllipticEnvelope\n",
    "from sklearn.cluster import DBSCAN\n",
    "from sklearn.preprocessing import StandardScaler\n",
    "from sklearn.svm import OneClassSVM\n",
    "from sklearn.neighbors import LocalOutlierFactor"
   ]
  },
  {
   "cell_type": "code",
   "execution_count": null,
   "metadata": {},
   "outputs": [],
   "source": [
    "sns.boxplot(x=df.age);"
   ]
  },
  {
   "cell_type": "code",
   "execution_count": null,
   "metadata": {},
   "outputs": [],
   "source": [
    "sns.boxplot(x=df.edu_years);"
   ]
  },
  {
   "cell_type": "code",
   "execution_count": null,
   "metadata": {},
   "outputs": [],
   "source": [
    "sns.boxplot(x=df.hours_per_week);"
   ]
  },
  {
   "cell_type": "code",
   "execution_count": null,
   "metadata": {},
   "outputs": [],
   "source": [
    "# isolation forrest\n",
    "cols = ['age', 'edu_years', 'hours_per_week']"
   ]
  },
  {
   "cell_type": "code",
   "execution_count": null,
   "metadata": {},
   "outputs": [],
   "source": [
    "fig, axs = plt.subplots(1, 3, figsize=(52, 22), facecolor='w', edgecolor='k')\n",
    "axs = axs.ravel()\n",
    "\n",
    "for i, column in enumerate(cols):\n",
    "    isolation_forest = IsolationForest(behaviour=\"new\", contamination='auto')\n",
    "    isolation_forest.fit(df[column].values.reshape(-1,1))\n",
    "    \n",
    "    xx = np.linspace(df[column].min(), df[column].max(), len(df)).reshape(-1,1)\n",
    "    anomaly_score = isolation_forest.decision_function(xx)\n",
    "    outlier = isolation_forest.predict(xx)\n",
    "    \n",
    "    axs[i].plot(xx, anomaly_score, label='anomaly score')\n",
    "    axs[i].fill_between(xx.T[0], np.min(anomaly_score), np.max(anomaly_score), \n",
    "                     where=outlier==-1, color='r', \n",
    "                     alpha=.4, label='outlier region')\n",
    "    axs[i].legend()\n",
    "    axs[i].set_title(column)"
   ]
  },
  {
   "cell_type": "code",
   "execution_count": null,
   "metadata": {},
   "outputs": [],
   "source": [
    "# Outlier detection using SD"
   ]
  },
  {
   "cell_type": "code",
   "execution_count": null,
   "metadata": {},
   "outputs": [],
   "source": [
    "def out_std(s, nstd=3.0, return_thresholds=False):\n",
    "    \n",
    "    data_mean, data_std = s.mean(), s.std()\n",
    "    cut_off = data_std * nstd\n",
    "    lower, upper = data_mean - cut_off, data_mean + cut_off\n",
    "    if return_thresholds:\n",
    "        return lower, upper\n",
    "    else:\n",
    "        return [True if x < lower or x > upper else False for x in s]"
   ]
  },
  {
   "cell_type": "code",
   "execution_count": null,
   "metadata": {},
   "outputs": [],
   "source": [
    "# outlier_mask is a boolean list identifies the indices of the outliers\n",
    "outlier_mask = out_std(df['age'], nstd=3.0)\n",
    "# first 10 elements"
   ]
  },
  {
   "cell_type": "code",
   "execution_count": null,
   "metadata": {},
   "outputs": [],
   "source": [
    "outliers = df['age'][outlier_mask]\n",
    "outliers.head()"
   ]
  },
  {
   "cell_type": "code",
   "execution_count": null,
   "metadata": {
    "scrolled": true
   },
   "outputs": [],
   "source": [
    "outliers.sort_values()"
   ]
  },
  {
   "cell_type": "code",
   "execution_count": null,
   "metadata": {},
   "outputs": [],
   "source": [
    "df.shape"
   ]
  },
  {
   "cell_type": "code",
   "execution_count": null,
   "metadata": {},
   "outputs": [],
   "source": [
    "df.drop(df.loc[df['age']>= 78].index, inplace=True)\n",
    "df.shape"
   ]
  },
  {
   "cell_type": "code",
   "execution_count": null,
   "metadata": {},
   "outputs": [],
   "source": [
    "plt.figure(figsize=(8,6))\n",
    "sns.distplot(df['age'], kde=False);\n",
    "plt.vlines(df['age'][outlier_mask], ymin=0, ymax=110, linestyles='dashed');"
   ]
  },
  {
   "cell_type": "code",
   "execution_count": null,
   "metadata": {},
   "outputs": [],
   "source": [
    "# removing outliers in edu_years\n",
    "# outlier_mask is a boolean list identifies the indices of the outliers\n",
    "outlier_mask2 = out_std(df['edu_years'], nstd=3.0)\n",
    "# first 10 elements"
   ]
  },
  {
   "cell_type": "code",
   "execution_count": null,
   "metadata": {},
   "outputs": [],
   "source": [
    "outliers_edu = df['edu_years'][outlier_mask2]\n",
    "outliers_edu.shape"
   ]
  },
  {
   "cell_type": "code",
   "execution_count": null,
   "metadata": {},
   "outputs": [],
   "source": [
    "plt.figure(figsize=(8,6))\n",
    "sns.distplot(df['edu_years'], kde=False);\n",
    "plt.vlines(df['edu_years'][outlier_mask2], ymin=0, ymax=110, linestyles='dashed');"
   ]
  },
  {
   "cell_type": "code",
   "execution_count": null,
   "metadata": {},
   "outputs": [],
   "source": [
    "outliers_edu.sort_values()"
   ]
  },
  {
   "cell_type": "code",
   "execution_count": null,
   "metadata": {},
   "outputs": [],
   "source": [
    "df.loc[df.edu_years==2].shape"
   ]
  },
  {
   "cell_type": "code",
   "execution_count": null,
   "metadata": {},
   "outputs": [],
   "source": [
    "df.shape"
   ]
  },
  {
   "cell_type": "code",
   "execution_count": null,
   "metadata": {},
   "outputs": [],
   "source": [
    "df.drop(df.loc[df['edu_years']<= 2].index, inplace=True)\n",
    "df.shape"
   ]
  },
  {
   "cell_type": "code",
   "execution_count": null,
   "metadata": {},
   "outputs": [],
   "source": [
    "# removing outliers in hrs\n",
    "# outlier_mask is a boolean list identifies the indices of the outliers\n",
    "outlier_mask3 = out_std(df['hours_per_week'], nstd=3.0)\n",
    "# first 10 elements"
   ]
  },
  {
   "cell_type": "code",
   "execution_count": null,
   "metadata": {},
   "outputs": [],
   "source": [
    "outliers_hrs = df['hours_per_week'][outlier_mask3]\n",
    "outliers_hrs.shape"
   ]
  },
  {
   "cell_type": "code",
   "execution_count": null,
   "metadata": {},
   "outputs": [],
   "source": [
    "plt.figure(figsize=(8,6))\n",
    "sns.distplot(df['hours_per_week'], kde=False);\n",
    "plt.vlines(df['hours_per_week'][outlier_mask3], ymin=0, ymax=110, linestyles='dashed');"
   ]
  },
  {
   "cell_type": "code",
   "execution_count": null,
   "metadata": {},
   "outputs": [],
   "source": [
    "outliers_hrs.value_counts()"
   ]
  },
  {
   "cell_type": "code",
   "execution_count": null,
   "metadata": {},
   "outputs": [],
   "source": [
    "df.drop(df.loc[df['hours_per_week']<= 5].index, inplace=True)\n",
    "df.drop(df.loc[df['hours_per_week']>= 77].index, inplace=True)\n",
    "df.shape"
   ]
  },
  {
   "cell_type": "code",
   "execution_count": null,
   "metadata": {},
   "outputs": [],
   "source": [
    "df.to_csv('data_cleaned_no_outliers.csv')"
   ]
  },
  {
   "cell_type": "code",
   "execution_count": 5,
   "metadata": {},
   "outputs": [
    {
     "data": {
      "text/plain": [
       "(32561, 15)"
      ]
     },
     "execution_count": 5,
     "metadata": {},
     "output_type": "execute_result"
    }
   ],
   "source": [
    "df.shape"
   ]
  },
  {
   "cell_type": "code",
   "execution_count": null,
   "metadata": {},
   "outputs": [],
   "source": []
  }
 ],
 "metadata": {
  "kernelspec": {
   "display_name": "Python 3",
   "language": "python",
   "name": "python3"
  },
  "language_info": {
   "codemirror_mode": {
    "name": "ipython",
    "version": 3
   },
   "file_extension": ".py",
   "mimetype": "text/x-python",
   "name": "python",
   "nbconvert_exporter": "python",
   "pygments_lexer": "ipython3",
   "version": "3.7.1"
  }
 },
 "nbformat": 4,
 "nbformat_minor": 2
}
